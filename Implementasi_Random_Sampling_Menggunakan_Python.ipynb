{
  "nbformat": 4,
  "nbformat_minor": 0,
  "metadata": {
    "colab": {
      "name": "Implementasi_Random_Sampling_Menggunakan_Python.ipynb",
      "version": "0.3.2",
      "provenance": [],
      "collapsed_sections": [],
      "include_colab_link": true
    },
    "kernelspec": {
      "name": "python3",
      "display_name": "Python 3"
    }
  },
  "cells": [
    {
      "cell_type": "markdown",
      "metadata": {
        "id": "view-in-github",
        "colab_type": "text"
      },
      "source": [
        "<a href=\"https://colab.research.google.com/github/anitasari15/StatistikaGroup2/blob/master/Implementasi_Random_Sampling_Menggunakan_Python.ipynb\" target=\"_parent\"><img src=\"https://colab.research.google.com/assets/colab-badge.svg\" alt=\"Open In Colab\"/></a>"
      ]
    },
    {
      "cell_type": "markdown",
      "metadata": {
        "id": "HfnQA3xjQzwn",
        "colab_type": "text"
      },
      "source": [
        "# Implementasi Random Sampling Menggunakan Python \n",
        "## 1. Random Sampling Pada List \n",
        "Berikut contoh bagaimana cara untuk mengimplementasikan random sampling pada list (array) menggunakan python\n",
        "### 1.1 Tanpa Redudansi \n",
        "Untuk menerapkan random sampling tanpa terjadinya redudansi data, maka kita dapat menggunakan fungsi *random.sample()* <br>\n",
        "contoh random sampling volume kendaraan pada senin - jumat pada kawasan taman pintar \n"
      ]
    },
    {
      "cell_type": "code",
      "metadata": {
        "id": "zVMWdiizVrzr",
        "colab_type": "code",
        "colab": {
          "base_uri": "https://localhost:8080/",
          "height": 35
        },
        "outputId": "59684abb-d35b-4d8a-e5d9-0c4b030b3c00"
      },
      "source": [
        "import random\n",
        "\n",
        "data = [4112, 3913, 3572, 4803, 3809] \n",
        "print(\"3 data terpilih untuk dijadikan sampel adalah : \", random.sample(data, k=3))\n",
        "\n"
      ],
      "execution_count": 1,
      "outputs": [
        {
          "output_type": "stream",
          "text": [
            "3 data terpilih untuk dijadikan sampel adalah :  [4112, 3913, 4803]\n"
          ],
          "name": "stdout"
        }
      ]
    },
    {
      "cell_type": "markdown",
      "metadata": {
        "id": "5hAeU_X9Vsq9",
        "colab_type": "text"
      },
      "source": [
        "### 1.2 Dengan Redudansi \n",
        "Untuk menerapkan random sampling dengan menyertakan redudansi data, maka kita dapat menggunakan fungsi* random.choices()* <br>\n",
        "contoh random sampling volume kendaraan pada senin - jumat pada kawasan taman pintar\n"
      ]
    },
    {
      "cell_type": "code",
      "metadata": {
        "id": "IfWje_DAZ1eK",
        "colab_type": "code",
        "colab": {
          "base_uri": "https://localhost:8080/",
          "height": 35
        },
        "outputId": "9c6be0c7-183d-466b-a070-09c255958eff"
      },
      "source": [
        "import random\n",
        "\n",
        "data = [4112, 3913, 3572, 4803, 3809]\n",
        "print(\"3 data terpilih untuk dijadikan sampel adalah : \", random.choices(data, k=3))\n",
        "\n"
      ],
      "execution_count": 2,
      "outputs": [
        {
          "output_type": "stream",
          "text": [
            "3 data terpilih untuk dijadikan sampel adalah :  [4803, 4112, 4803]\n"
          ],
          "name": "stdout"
        }
      ]
    },
    {
      "cell_type": "markdown",
      "metadata": {
        "id": "rRd3HUl5Z1_Q",
        "colab_type": "text"
      },
      "source": [
        "### 1.3 Nested List \n",
        "Untuk menerapkan random sampling pada nested list, kita perlu menggunakan library numpy, pertama untuk membuat nested list dapat menggunakan fungsi *numpy.array()*, kemudian untuk memilih sampel secara acak dari nested list tersebut dapat menggunakan fungsi *numpy.random.randint(*) <br>\n",
        "contoh random sampling volume kendaraan pada senin - jumat (pagi, siang, sore) pada kawasan taman pintar"
      ]
    },
    {
      "cell_type": "code",
      "metadata": {
        "id": "_qcZ0nkGaems",
        "colab_type": "code",
        "colab": {
          "base_uri": "https://localhost:8080/",
          "height": 90
        },
        "outputId": "4148b983-e85d-4082-ff40-75665dbd6597"
      },
      "source": [
        "import random\n",
        "import numpy\n",
        "\n",
        "data = numpy.array([\n",
        "    [4112, 3975, 5412],\n",
        "    [3913,5123, 4132],\n",
        "    [3572, 4129, 3251],\n",
        "    [4083, 4142, 5124],\n",
        "    [3809, 5415, 5142]\n",
        "])\n",
        "\n",
        "randomData = numpy.random.randint(6, size=3)\n",
        "\n",
        "print(\"3 data terpilih untuk dijadikan sampel adalah : \")\n",
        "for i in randomData:\n",
        "  print(data[i])\n"
      ],
      "execution_count": 3,
      "outputs": [
        {
          "output_type": "stream",
          "text": [
            "3 data terpilih untuk dijadikan sampel adalah : \n",
            "[3572 4129 3251]\n",
            "[3809 5415 5142]\n",
            "[3913 5123 4132]\n"
          ],
          "name": "stdout"
        }
      ]
    },
    {
      "cell_type": "markdown",
      "metadata": {
        "id": "3UYcThLSafBG",
        "colab_type": "text"
      },
      "source": [
        "## 2. Random Sampling Pada Set \n",
        "Berikut contoh bagaimana cara untuk mengimplementasikan random sampling pada set menggunakan python\n",
        "### 2.1 Tanpa Redudansi \n",
        "Random sampling pada set hanya dapat diimplementasikan tanpa menyertakan redudansi data, hal ini karena set tidak mendukung indexing. Untuk menerapkan random sampling tanpa terjadinya redudansi data, maka kita dapat menggunakan fungsi* random.sample()* <br>\n",
        "contoh random sampling volume kendaraan pada senin - jumat pada kawasan taman pintar "
      ]
    },
    {
      "cell_type": "code",
      "metadata": {
        "id": "UzOJcMnyiVNP",
        "colab_type": "code",
        "colab": {
          "base_uri": "https://localhost:8080/",
          "height": 35
        },
        "outputId": "0952f93d-d310-436f-c2dc-8743edae6329"
      },
      "source": [
        "import random\n",
        "\n",
        "data = {4112, 3913, 3572, 4803, 3809}\n",
        "print(\"3 data terpilih untuk dijadikan sampel adalah : \", random.sample(data, k=3))\n",
        "\n"
      ],
      "execution_count": 7,
      "outputs": [
        {
          "output_type": "stream",
          "text": [
            "3 data terpilih untuk dijadikan sampel adalah :  [3913, 3809, 4112]\n"
          ],
          "name": "stdout"
        }
      ]
    },
    {
      "cell_type": "markdown",
      "metadata": {
        "id": "AhMR6IdViVlu",
        "colab_type": "text"
      },
      "source": [
        "## 3. Random Sampling Pada Dictionary \n",
        "Berikut contoh bagaimana cara untuk mengimplementasikan random sampling pada dictionary (objek) menggunakan python\n",
        "### 3.1 Tanpa Redudansi \n",
        "Random sampling pada dictionary hanya dapat diimplementasikan tanpa menyertakan redudansi data, hal ini karena dictionary tidak mendukung indexing. Untuk menerapkan random sampling tanpa terjadinya redudansi data, maka kita dapat menggunakan fungsi *random.sample()* <br>\n",
        "contoh random sampling volume kendaraan pada senin - jumat pada kawasan taman pintar\n"
      ]
    },
    {
      "cell_type": "code",
      "metadata": {
        "id": "ib6IRwTjl21G",
        "colab_type": "code",
        "colab": {
          "base_uri": "https://localhost:8080/",
          "height": 35
        },
        "outputId": "c8d8050f-5d64-46a1-8969-482bb043e695"
      },
      "source": [
        "import random\n",
        "\n",
        "data = {\n",
        "    \"senin\": 1,\n",
        "    \"selasa\": 2,\n",
        "    \"rabu\": 3,\n",
        "    \"kamis\": 4,\n",
        "    \"jumat\": 5\n",
        "}\n",
        "print(\"3 data terpilih untuk dijadikan sampel adalah : \", random.sample(data.items(), k=3))\n"
      ],
      "execution_count": 8,
      "outputs": [
        {
          "output_type": "stream",
          "text": [
            "3 data terpilih untuk dijadikan sampel adalah :  [('selasa', 2), ('rabu', 3), ('jumat', 5)]\n"
          ],
          "name": "stdout"
        }
      ]
    }
  ]
}