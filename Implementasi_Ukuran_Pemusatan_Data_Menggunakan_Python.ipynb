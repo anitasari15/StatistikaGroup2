{
  "nbformat": 4,
  "nbformat_minor": 0,
  "metadata": {
    "colab": {
      "name": "Implementasi Ukuran Pemusatan Data Menggunakan Python",
      "version": "0.3.2",
      "provenance": [],
      "collapsed_sections": [],
      "include_colab_link": true
    },
    "kernelspec": {
      "display_name": "Python 3",
      "name": "python3"
    }
  },
  "cells": [
    {
      "cell_type": "markdown",
      "metadata": {
        "id": "view-in-github",
        "colab_type": "text"
      },
      "source": [
        "<a href=\"https://colab.research.google.com/github/anitasari15/StatistikaGroup2/blob/master/Implementasi_Ukuran_Pemusatan_Data_Menggunakan_Python.ipynb\" target=\"_parent\"><img src=\"https://colab.research.google.com/assets/colab-badge.svg\" alt=\"Open In Colab\"/></a>"
      ]
    },
    {
      "cell_type": "markdown",
      "metadata": {
        "id": "gfkJ9B-4bn7o",
        "colab_type": "text"
      },
      "source": [
        "# **Implementasi Ukuran Pemusatan Data Menggunakan Python**"
      ]
    },
    {
      "cell_type": "markdown",
      "metadata": {
        "id": "VNg7FSkib1qk",
        "colab_type": "text"
      },
      "source": [
        "## 1. Mean\n",
        "\n",
        "### 1.1 Manual\n",
        "\n",
        "Berikut contoh implementasi bagaimana mencari mean jumlah kendaraan bermotor roda dua yang melintasi taman pintar pada hari senin – jumat dengan mengunakan python tanpa menggunakan library"
      ]
    },
    {
      "cell_type": "code",
      "metadata": {
        "id": "NCuCJxRcbsWA",
        "colab_type": "code",
        "outputId": "6d0573bf-811f-4055-83cf-ae00e4add33c",
        "colab": {
          "base_uri": "https://localhost:8080/",
          "height": 35
        }
      },
      "source": [
        "data = [4112, 3913, 3572, 4803, 3809] \n",
        "mean = sum(data) / len(data) \n",
        "  \n",
        "print(\"mean dari data tersebut adalah \" + str(mean)) \n"
      ],
      "execution_count": 0,
      "outputs": [
        {
          "output_type": "stream",
          "text": [
            "mean dari data tersebut adalah 4041.8\n"
          ],
          "name": "stdout"
        }
      ]
    },
    {
      "cell_type": "markdown",
      "metadata": {
        "id": "h4bP0VhxbsjX",
        "colab_type": "text"
      },
      "source": [
        "### Menggunakan Library Statistics"
      ]
    },
    {
      "cell_type": "markdown",
      "metadata": {
        "id": "eufVUSmzcK_L",
        "colab_type": "text"
      },
      "source": [
        "Berikut contoh implementasi bagaimana mencari mean jumlah kendaraan bermotor roda dua yang melintasi taman pintar pada hari senin – jumat dengan mengunakan python menggunakan library statistics"
      ]
    },
    {
      "cell_type": "code",
      "metadata": {
        "id": "JSFQZWX0dJCL",
        "colab_type": "code",
        "outputId": "544506cc-8861-4635-aa87-bc4cb79509f5",
        "colab": {
          "base_uri": "https://localhost:8080/",
          "height": 35
        }
      },
      "source": [
        "import statistics as stat\n",
        "\n",
        "data=[4112, 3913, 3572, 4803, 3809]\n",
        "\n",
        "print(\"mean dari data tersebut adalah \", stat.mean(data))\n"
      ],
      "execution_count": 0,
      "outputs": [
        {
          "output_type": "stream",
          "text": [
            "mean dari data tersebut adalah  4041.8\n"
          ],
          "name": "stdout"
        }
      ]
    },
    {
      "cell_type": "markdown",
      "metadata": {
        "id": "_HesUEZWdRKj",
        "colab_type": "text"
      },
      "source": [
        "## 2. Median\n",
        "\n",
        "### 2.1 Manual\n",
        "\n",
        "Berikut contoh implementasi bagaimana mencari median jumlah kendaraan bermotor roda dua yang melintasi taman pintar pada hari senin – jumat dengan mengunakan python tanpa menggunakan library"
      ]
    },
    {
      "cell_type": "code",
      "metadata": {
        "id": "w815xcG2d2vn",
        "colab_type": "code",
        "outputId": "7bc38772-ad51-4e4c-b6c0-8e2089a354bf",
        "colab": {
          "base_uri": "https://localhost:8080/",
          "height": 35
        }
      },
      "source": [
        "data = [4112, 3913, 3572, 4803, 3809] \n",
        "length = len(data) \n",
        "data.sort() \n",
        "  \n",
        "if length % 2 == 0: \n",
        "    median1 = data[int(length / 2)] \n",
        "    median2 = data[int(length / 2) - 1] \n",
        "    median = (median1 + median2) / 2\n",
        "else: \n",
        "    median = data[int(length / 2)] \n",
        "print(\"median dari data tersebut adalah \" + str(median)) "
      ],
      "execution_count": 0,
      "outputs": [
        {
          "output_type": "stream",
          "text": [
            "median dari data tersebut adalah 3913\n"
          ],
          "name": "stdout"
        }
      ]
    },
    {
      "cell_type": "markdown",
      "metadata": {
        "id": "nZX8vF5vd7iA",
        "colab_type": "text"
      },
      "source": [
        "### 2.2 Menggunakan Library Statistics\n",
        "\n",
        "Berikut contoh implementasi bagaimana mencari median jumlah kendaraan bermotor roda dua yang melintasi taman pintar pada hari senin – jumat dengan mengunakan python menggunakan library statistics"
      ]
    },
    {
      "cell_type": "code",
      "metadata": {
        "id": "AFnLK_XHeGe3",
        "colab_type": "code",
        "outputId": "d5c53d87-bcae-4ce6-eb04-fea464bcb9e7",
        "colab": {
          "base_uri": "https://localhost:8080/",
          "height": 35
        }
      },
      "source": [
        "import statistics as stat\n",
        "\n",
        "data=[4112, 3913, 3572, 4803, 3809] \n",
        "\n",
        "\n",
        "print(\"median dari data tersebut adalah \", stat.median(data))\n"
      ],
      "execution_count": 0,
      "outputs": [
        {
          "output_type": "stream",
          "text": [
            "median dari data tersebut adalah  3913\n"
          ],
          "name": "stdout"
        }
      ]
    },
    {
      "cell_type": "markdown",
      "metadata": {
        "id": "XcfmofFLePuN",
        "colab_type": "text"
      },
      "source": [
        "## 3. Modus\n",
        "\n",
        "### 3.1 Manual\n",
        "Berikut contoh implementasi bagaimana mencari modus jumlah kendaraan bermotor roda dua yang melintasi taman pintar pada hari senin – jumat dengan mengunakan python tanpa menggunakan library"
      ]
    },
    {
      "cell_type": "code",
      "metadata": {
        "id": "NAixX4xqedfz",
        "colab_type": "code",
        "outputId": "c9f4f590-583a-4ad8-a9ad-f997fae3ccc3",
        "colab": {
          "base_uri": "https://localhost:8080/",
          "height": 35
        }
      },
      "source": [
        "from collections import Counter \n",
        "  \n",
        "# list of elements to calculate mode \n",
        "n_num = [4112, 3809, 3572, 4803, 3809] \n",
        "n = len(n_num) \n",
        "  \n",
        "data = Counter(n_num) \n",
        "get_mode = dict(data) \n",
        "mode = [k for k, v in get_mode.items() if v == max(list(data.values()))] \n",
        "  \n",
        "if len(mode) == n: \n",
        "    get_mode = \"modus tidak ditemukan\"\n",
        "else: \n",
        "    get_mode = \"modus dari data tersebut adalah \" + ', '.join(map(str, mode)) \n",
        "      \n",
        "print(get_mode)"
      ],
      "execution_count": 0,
      "outputs": [
        {
          "output_type": "stream",
          "text": [
            "modus dari data tersebut adalah 3809\n"
          ],
          "name": "stdout"
        }
      ]
    },
    {
      "cell_type": "markdown",
      "metadata": {
        "id": "khp7siB7ejN2",
        "colab_type": "text"
      },
      "source": [
        "### 3.2 Menggunakan Library Statistics\n",
        "Berikut contoh implementasi bagaimana mencari modus jumlah kendaraan bermotor roda dua yang melintasi taman pintar pada hari senin – jumat dengan mengunakan python menggunakan library statistics"
      ]
    },
    {
      "cell_type": "code",
      "metadata": {
        "id": "dKCGRQx1et9C",
        "colab_type": "code",
        "outputId": "e7326eef-0424-40e7-c7cb-adcaf416c243",
        "colab": {
          "base_uri": "https://localhost:8080/",
          "height": 35
        }
      },
      "source": [
        "import statistics as stat\n",
        "\n",
        "data=[4112, 3809, 3572, 4803, 3809]\n",
        "\n",
        "print(\"modus dari data tersebut adalah \", stat.mode(data))\n"
      ],
      "execution_count": 0,
      "outputs": [
        {
          "output_type": "stream",
          "text": [
            "modus dari data tersebut adalah  3809\n"
          ],
          "name": "stdout"
        }
      ]
    }
  ]
}