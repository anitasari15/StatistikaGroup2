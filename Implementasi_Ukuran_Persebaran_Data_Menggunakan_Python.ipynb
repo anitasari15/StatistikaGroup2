{
  "nbformat": 4,
  "nbformat_minor": 0,
  "metadata": {
    "colab": {
      "name": "Untitled2.ipynb",
      "version": "0.3.2",
      "provenance": [],
      "include_colab_link": true
    },
    "kernelspec": {
      "name": "python3",
      "display_name": "Python 3"
    }
  },
  "cells": [
    {
      "cell_type": "markdown",
      "metadata": {
        "id": "view-in-github",
        "colab_type": "text"
      },
      "source": [
        "<a href=\"https://colab.research.google.com/github/anitasari15/StatistikaGroup2/blob/master/Implementasi_Ukuran_Persebaran_Data_Menggunakan_Python.ipynb\" target=\"_parent\"><img src=\"https://colab.research.google.com/assets/colab-badge.svg\" alt=\"Open In Colab\"/></a>"
      ]
    },
    {
      "cell_type": "code",
      "metadata": {
        "id": "h8QhXAOeDCe9",
        "colab_type": "code",
        "colab": {}
      },
      "source": [
        ""
      ],
      "execution_count": 0,
      "outputs": []
    },
    {
      "cell_type": "markdown",
      "metadata": {
        "id": "cHL8UJKrDF6F",
        "colab_type": "text"
      },
      "source": [
        "# **Implementasi Ukuran Persebaran Data Menggunakan Python**\n",
        "## **1. Variasi**\n",
        "Variasi merupakan ukuran seberapa jauh sebuah kumpulan bilangan dapat tersebar\n",
        "### **1.1 Menggunakan Library Statistics**\n",
        "Berikut contoh implementasi pencarian variasi jumlah kendaraan bermotor roda dua yang melintasi taman pintar pada hari senin – jumat dengan mengunakan library statistics.\n"
      ]
    },
    {
      "cell_type": "code",
      "metadata": {
        "id": "29M7dI7xDT4x",
        "colab_type": "code",
        "colab": {
          "base_uri": "https://localhost:8080/",
          "height": 36
        },
        "outputId": "6cae27b7-9f42-45f4-d46e-183d5e9c6ea4"
      },
      "source": [
        "import statistics as stat\n",
        "\n",
        "data=[4112, 3913, 3572, 4803, 3809] \n",
        "\n",
        "print(\"varian dari data tersebut adalah \", stat.variance(data))\n"
      ],
      "execution_count": 1,
      "outputs": [
        {
          "output_type": "stream",
          "text": [
            "varian dari data tersebut adalah  218962.7\n"
          ],
          "name": "stdout"
        }
      ]
    },
    {
      "cell_type": "markdown",
      "metadata": {
        "id": "k8uFaXOgDYhu",
        "colab_type": "text"
      },
      "source": [
        "### **1.2 Menggunakan Library Numpy**\n",
        "Berikut contoh implementasi pencarian variasi jumlah kendaraan bermotor roda dua yang melintasi taman pintar pada hari senin – jumat dengan mengunakan library numpy.\n"
      ]
    },
    {
      "cell_type": "code",
      "metadata": {
        "id": "rw-gBnSCDeyV",
        "colab_type": "code",
        "colab": {
          "base_uri": "https://localhost:8080/",
          "height": 36
        },
        "outputId": "b6490b7d-8532-4fda-b3f9-ba66892297d2"
      },
      "source": [
        "import numpy as np  \n",
        "\n",
        "data=[4112, 3913, 3572, 4803, 3809]\n",
        "\n",
        "print(\"varian dari data tersebut adalah \", np.var(data))\n"
      ],
      "execution_count": 2,
      "outputs": [
        {
          "output_type": "stream",
          "text": [
            "varian dari data tersebut adalah  175170.16\n"
          ],
          "name": "stdout"
        }
      ]
    },
    {
      "cell_type": "markdown",
      "metadata": {
        "id": "0G_vvyKDDhoP",
        "colab_type": "text"
      },
      "source": [
        "## **2. Standard Deviasi**\n",
        "Standar deviasi merupakan nilai statistik yang digunakan untuk menentukan bagaimana sebaran data dalam sampel, dan seberapa dekat titik data individu ke mean atau rata - rata nilai sampel.\n",
        "### **2.1 Menggunakan Library Statistics**\n",
        "Berikut contoh implementasi pencarian standard deviasi jumlah kendaraan bermotor roda dua yang melintasi taman pintar pada hari senin – jumat dengan mengunakan library statistics.\n"
      ]
    },
    {
      "cell_type": "code",
      "metadata": {
        "id": "syv3lCHYDpka",
        "colab_type": "code",
        "colab": {
          "base_uri": "https://localhost:8080/",
          "height": 36
        },
        "outputId": "28ca71fa-25d1-4484-d1c7-3ebb2b0af1f0"
      },
      "source": [
        "import statistics as stat\n",
        "\n",
        "data=[4112, 3913, 3572, 4803, 3809]\n",
        "\n",
        "print(\"standard deviasi dari data tersebut adalah \", stat.stdev(data))\n"
      ],
      "execution_count": 3,
      "outputs": [
        {
          "output_type": "stream",
          "text": [
            "standard deviasi dari data tersebut adalah  467.9345039639629\n"
          ],
          "name": "stdout"
        }
      ]
    },
    {
      "cell_type": "markdown",
      "metadata": {
        "id": "75BbWGj_D-ul",
        "colab_type": "text"
      },
      "source": [
        "### **2.2 Menggunakan Library Numpy**\n",
        "Berikut contoh implementasi pencarian standard deviasi jumlah kendaraan bermotor roda dua yang melintasi taman pintar pada hari senin – jumat dengan mengunakan library numpy.\n"
      ]
    },
    {
      "cell_type": "code",
      "metadata": {
        "id": "LyeD_1QLECc2",
        "colab_type": "code",
        "colab": {
          "base_uri": "https://localhost:8080/",
          "height": 36
        },
        "outputId": "ea50a521-b371-4e79-cd24-b4ac9fdcb420"
      },
      "source": [
        "import numpy as np  \n",
        "\n",
        "data=[4112, 3913, 3572, 4803, 3809]\n",
        "\n",
        "print(\"standard deviasi dari data tersebut adalah \", np.std(data))\n"
      ],
      "execution_count": 4,
      "outputs": [
        {
          "output_type": "stream",
          "text": [
            "standard deviasi dari data tersebut adalah  418.5333439524263\n"
          ],
          "name": "stdout"
        }
      ]
    }
  ]
}