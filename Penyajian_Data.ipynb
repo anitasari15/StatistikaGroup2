{
  "nbformat": 4,
  "nbformat_minor": 0,
  "metadata": {
    "colab": {
      "name": "Untitled3.ipynb",
      "version": "0.3.2",
      "provenance": [],
      "include_colab_link": true
    },
    "kernelspec": {
      "name": "python3",
      "display_name": "Python 3"
    }
  },
  "cells": [
    {
      "cell_type": "markdown",
      "metadata": {
        "id": "view-in-github",
        "colab_type": "text"
      },
      "source": [
        "<a href=\"https://colab.research.google.com/github/anitasari15/StatistikaGroup2/blob/master/Penyajian_Data.ipynb\" target=\"_parent\"><img src=\"https://colab.research.google.com/assets/colab-badge.svg\" alt=\"Open In Colab\"/></a>"
      ]
    },
    {
      "cell_type": "code",
      "metadata": {
        "id": "3efU5ihpptax",
        "colab_type": "code",
        "colab": {}
      },
      "source": [
        ""
      ],
      "execution_count": 0,
      "outputs": []
    },
    {
      "cell_type": "markdown",
      "metadata": {
        "id": "MvJWRi1-pxHH",
        "colab_type": "text"
      },
      "source": [
        "PENYAJIAN DATA\n",
        "________________________________________\n",
        "Salah satu pembahasan dalam statistika deskriptif adalah teknik penyajian data. Data yang sudah kita kumpulkan dan sudah kita peroleh seyogyanya terorganisasi dengan baik, sehingga dapat disajikan dengan baik pula. Data yang tersaji dengan baik dapat dipahami dan bermakna bagi pengguna.\n",
        "________________________________________\n",
        "Jika data yang sudah diperoleh jumlahnya sangat banyak, maka cara yang baik untuk menganalisa nya adalah dengan mengorganisasi dan menyajikan data tersebut dalam bentuk yang ringkas dan padat. Sehingga membuat pengguna mudah dan cepat dalam membaca data tersebut. Organisasi data adalah proses penyusunan data di dalam kelompok atau kelas berdasarkan ciri-ciri tertentu. Berikut ini adalah tujuan organisasi data:\n",
        "1.\tMeringkas data mentah untuk tujuan analisis statistika\n",
        "2.\tMengurangi maslah kompleksitas data dan menyajikan sifat-sifat data\n",
        "3.\tMemudahkan untuk perbandingan dan membuat kesimpulan tentang data\n",
        "4.\tMenyediakan informasi tentang hubungan antara elemen di dalam sekelompok data\n",
        "5.\tMemudahkan kita dalam memisahkan elemen data ke dalam kelompok yang sama dan kemudian bisa mengelompokkan berdasarkan kesamaan dan ketidaksamaan elemen tersebut\n",
        "(Agus Widarjono)\n",
        "________________________________________\n",
        "Data disajikan dalam 2 bentuk, yakni:\n",
        "1.\tTabulasi\n",
        "2.\tGrafis\n",
        "\n",
        "Tabulasi\n",
        "________________________________________\n",
        "Penyajian data dalam bentuk tabulasi adalah penyajian data kedalam bentuk tabel. Sebelum membahas tentang penyajiannya, maka yang perlu dibahas adalah bagaimana cara untuk mengorganisasi data. Salah satu teknik yang digunakan untuk mengorganisasi data adalah distribusi frekuensi (frequency distribution).\n",
        "________________________________________\n",
        "Distribusi Frekuensi\n",
        "________________________________________\n",
        "Untuk membentuk distribusi frekuensi akan dijelaskan dengan contoh berikut. Terdapat data jumlah kendaraan bermotor roda dua yang melintasi taman pintar setiap pagi hari selama sebulan pada bulan Juni 2016 .\n",
        "\n",
        "\n",
        "|4112|3913|3572|4803|3809|\n",
        "\n",
        "|2919|1272|1737|3731|4003|\n",
        "\n",
        "|3932|3965|2491|3425|3064|\n",
        "\n",
        "|2725|2309|1264|3635|2896|\n",
        "\n",
        "|3245|4812|4726|2986|1983|\n",
        "\n",
        "|2979|2989|4231|3965|3892|\n",
        "\n",
        "Berikut ini adalah langkah-langkah dalam membentuk distribusi frekuensi:\n",
        "\n",
        "1. Menentukan Jumlah Kelas Interval\n",
        "Untuk menentukan kelas interval (K), gunakan persamaan ini: K=1+3,3logn \n",
        "Sesuai contoh kasus di atas, maka K=1+3,3log30 = 1+ 3,3 . (1,47) = 5,85\n",
        "Jadi jumlah kelas interval 5 atau 6. Pada kesempatan ini digunakan 6 kelas.\n",
        "2. Menghitung Rentang Data\n",
        "Untuk menghitung rentang data, caranya adalah data terbesar dikurangi data terkecil kemudian ditambah 1. \n",
        "Data terbesar adalah 4812, dan data terkecil adalah 1274. Jadi 4812-357+1 = 3539 \n",
        "\n",
        "3. Menghitung Panjang Kelas\n",
        "\tUntuk menghitung Panjang Kelas, caranya adalah Rentang Data dibagi Jumlah Kelas Interval sehingga: 3539 / 6 = 589.83 ~ 590\n",
        "\n",
        "4. Menyusun Interval Kelas\n",
        "\tSecara teoritis penyusunan kelas interval dimulai dari data yang terkecil, yakni 1274. \n",
        " \n",
        "5. Menghitung Frekuensi Menggunakan Tally\n",
        "\tSetelah Kelas Interval tersusun, selanjutnya memasukkan data satu per satu mulai awal hingga akhir sesuai Kelas Intervalnya, yakni dengan menandai menggunakan Tally (|||| ||). Misalnya apabila bertemu data 365, maka pada Kelas Interval ke-1 diberi Tally, jika bertemu data 572 maka pada Kelas Interval ke-4 diberi Tally. Begitu seterusnya sampai 30 data. Sehingga diperoleh data seperti tabel di bawah ini. Apabila semua data telah dimasukkan, kolom Tally bisa dihapus. \n",
        "  \n",
        "|No Kelas|Kelas|Interval|Frekuensi (f)|\n",
        "\n",
        "|1|1270 - 1860|3|\n",
        "\n",
        "|2|1861 - 2451|2|\n",
        "\n",
        "|3|2452 - 3042|7|\n",
        "\n",
        "|4|3043 - 3635|5|\n",
        "\n",
        "|5|3636 – 4226|9|\n",
        "\n",
        "|6|4227 - 4817|4|\n",
        "\n",
        "Grafis\n",
        "________________________________________\n",
        "Selain tabel, data disajikan dalam bentuk grafis. Dalam penyajian grafis ini, data disajikan dalam bentuk gambar. Terdapat dua macam penyajian grafis, yakni dalam bentuk grafik dan diagram.\n",
        "1.\tGrafik - digunakan untuk meyajikan data yang menunjukkan hubungan 2 variabel. Misalnya hubungan variabel jumlah dan variabel waktu.\n",
        "2.\tDiagram - digunakan untuk menunjukkan perbandingan data dari berbagai kelompok, biasanya disajikan dalam bentuk perbandingan persentase.\n",
        "________________________________________\n",
        "Grafik Garis\n",
        "\n",
        "![Grafik Garis](https://imgur.com/2y94WUz)\n",
        "\n",
        "________________________________________\n",
        "Diagram Batang\n",
        "________________________________________\n",
        "\n",
        "![Diagram Batang](https://imgur.com/2YrF7RM)\n",
        "\n",
        "________________________________________\n",
        "Diagram Lingkaran\n",
        "________________________________________\n",
        "\n",
        "![Diagram Lingkaran](https://imgur.com/BRTaVP3)\n",
        "\n"
      ]
    }
  ]
}