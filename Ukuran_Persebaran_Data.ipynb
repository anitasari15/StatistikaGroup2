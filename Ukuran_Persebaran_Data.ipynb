{
  "nbformat": 4,
  "nbformat_minor": 0,
  "metadata": {
    "colab": {
      "name": "Ukuran Persebaran Data",
      "version": "0.3.2",
      "provenance": [],
      "collapsed_sections": [],
      "include_colab_link": true
    },
    "kernelspec": {
      "name": "python3",
      "display_name": "Python 3"
    }
  },
  "cells": [
    {
      "cell_type": "markdown",
      "metadata": {
        "id": "view-in-github",
        "colab_type": "text"
      },
      "source": [
        "<a href=\"https://colab.research.google.com/github/anitasari15/StatistikaGroup2/blob/master/Ukuran_Persebaran_Data.ipynb\" target=\"_parent\"><img src=\"https://colab.research.google.com/assets/colab-badge.svg\" alt=\"Open In Colab\"/></a>"
      ]
    },
    {
      "cell_type": "markdown",
      "metadata": {
        "id": "GpqCH-MBGyD9",
        "colab_type": "text"
      },
      "source": [
        "# 4. PEMUSATAN DAN PERSEBARAN DATA\n",
        "Telah dijelaskan sebelumnya bahwa pada statistika dilakukan pengumpulan, pengorganisasian, peringkasan, penyajian dan interpretasi (pemaknaan) data. Cabang dari statistika yang terdiri atas  pengumpulan, pengorganisasian, peringkasan, penyajian data disebut statistika deskriptif. Sedangkan cabang statistika yang terdiri atas intrepretasi dan penarikan kesimpulan dari data yang ada disebut dengan statistika inferensia. Selanjutnya telah dijelaskan juga mengenai populasi dan sampel, dimana seluruh data yang diamati disebut populasi. Sedangkan sampel adalah bagian dari populasi yang diteliti, yang diharapkan karakteristiknya dapat mewakili populasi. \n",
        "Salah satu konsep dasar statistika selain yang telah dijelaskan sebelumnya adalah konsep untuk menemukan ukuran data. Dimana pengukuran data dalam statistika dikenal adanya ukuran pemusatan (measures of central tendency) dan ukuran penyebaran (measures of dispersion) dari suatu set data numerik. Untuk lebih jelasnya mengenai pemusatan dan penyebaran data, akan dibahas lebih detail pada bagian ini\n"
      ]
    },
    {
      "cell_type": "markdown",
      "metadata": {
        "id": "W3APmkH5G1kw",
        "colab_type": "text"
      },
      "source": [
        "## 4.1.\tUKURAN PEMUSATAN DATA (MEASURES OF CENTRAL TENDENCY)italicized text\n",
        "Ukuran pusat letak data merupakan metode untuk mengukur letak pusat sekumpulan data. Untuk memudahkan dalam memahami ukuran pemusatan data, maka diberikan data sebagai berikut:\n",
        "\n",
        "<center><a href=\"https://imgbb.com/\"><img src=\"https://i.ibb.co/R7qxHTQ/1.png\" alt=\"1\" border=\"0\"></a><br /><a target='_blank' href='https://imgbb.com/'>upload image sites</a><br /></center>\n",
        "  \n",
        "### 4.1.1.\tMean\n",
        "Mean adalah ukuran yang paling sering digunakan dalam ukuran pemusatan data (measure of central tendency). Dalam perhitungan mean, untuk mean populasi dilambangkan dengan . Mean pada sampel dilambangkan dengan x ̅ (dibaca “x bar”). Untuk memperoleh mean dari set data, jumlahkan seluruh data dalam set, kemudian dibagi banyaknya data dalam set tersebut. Sebagai contoh adalah perhitungan mean salary dari contoh kasus di atas.\n",
        "\n",
        "<center><a href=\"https://imgbb.com/\"><img src=\"https://i.ibb.co/S0QZxQq/2.png\" alt=\"2\" border=\"0\"></a><br /><a target='_blank' href='https://imgbb.com/'>upload image sites</a><br /></center>\n",
        "\n",
        "Mean dari 5 data tersebut adalah 4041,8. <br>\n",
        "Dalam statistika sering dibutuhkan penjumlahan dari sebuah set angka. Simbol yang digunakan untuk penjumlahan adalah sigma (  ). Sehingga penjumlahan dari seluruh anggota set bisa dilambangkan dengan ∑▒x . Dengan penggunaan symbol penjumlahan tersebut, kita dapat mendefinisikan persamaan mean.\n",
        "<center><a href=\"https://ibb.co/55rFzJn\"><img src=\"https://i.ibb.co/VvgmhkQ/mean.png\" alt=\"mean\" border=\"0\"></a><br /><a target='_blank' href='https://statewideinventory.org/bmw-0-60-times'>2013 bmw 650i 0 60</a><br /></center>\n",
        "\n",
        "\n",
        "### 4.1.2.\tMedian\n",
        "Tipe lain dari rata-rata disebut median. Median adalah angka tengah atau bisa disebut juga dengan rata-rata dari dua angka tengah dari set angka yang sudah diurutkan dari angka terkecil hingga angka terbesar atau sebaliknya. Karakteristik  penting  median :\n",
        "\n",
        "*  Hanya ada satu angka median untuk sekelompok data\n",
        "*  Tidak terpengaruh oleh nilai ekstrim data\n",
        "*  Digunakan untuk mengukur data dalam bentuk rasio, interval maupun ordinal.\n",
        "\n",
        "Penentuan median dari daftar angka yang n ganjil berbeda dengan daftar angka yang n genap. Untuk daftar angka n ganjil, mediannya adalah angka di posisi tengah dari set angka tersebut. Sedangkan untuk n genap, mediannya adalah mean dari dua angka yang berada di posisi tengah set angka tersebut.\n",
        "Untuk lebih memahaminya, perhatikan contoh berikut ini:\n",
        "\t\n",
        "1.   Pada contoh data volume kendaraan yang diberikan sebelumnya terdapat set angka dengan anggota : <br>\n",
        "4112, 3913, 3572, 4803, 3809 <br>\n",
        "Untuk menentukan median, urutkan terlebih dahulu set angka tersebut, sehingga menjadi: <br>\n",
        "(3572, 3913, 4803, 3809, 4112)\t              n = 5 <br>\n",
        "Sehingga diperoleh median: 4803\n",
        "\n",
        "2.   Terdapat volume kendaraan pada hari senin - sabtu : 4112, 3913, 3572, 4803, 3809, 4000 <br>\n",
        "Untuk menentukan median, urutkan terlebih dahulu set angka tersebut, sehingga menjadi: <br>\n",
        "(3572, 3913, 4803, 3809,4000, 4112)\t\t\t\tn = 6 <br>\n",
        "Karena genap, maka diambil 2 angka di posisi tengah, yakni 4803 dan 3809. Selanjutnya dihitung mean = (4803+3809)/2 = 5987,5. <br>\n",
        "Sehingga diperoleh median: 5987,5\n",
        "\n",
        "### 4.1.3.\tMode\n",
        "Tipe ketiga adalah mode. Mode adalah angka yang paling sering muncul dalam set angka yang diberikan. Misalnya volume kendaraan pada hari senin - jumat  seperti  4112, 3913, 3572, 4803, 3809. Dari set tersebut masing-masing angka hanya muncul satu kali, sehingga pada set angka tersebut tidak ada mode nya. \n",
        "Mode tidak terpengaruh oleh nilai ekstrim di dalam observasi. Kelemahan mode sebagai ukuran pusat data:\n",
        "\n",
        "\n",
        "*   Jika data tidak ada nilai yang sama, maka tidak ada mode \n",
        "*   Kesulitan menentukan mode bila mempunyai dua mode atau lebih\n",
        "*   Mode kurang merepresentasikan jika frekuensinya kecil di dalam mode\n",
        "*   Jika distribusi data tidak merata, mode kurang mewakili pusat dari data\n",
        "\n",
        "\n",
        "\n"
      ]
    },
    {
      "cell_type": "markdown",
      "metadata": {
        "id": "UWXmh8oKQz9N",
        "colab_type": "text"
      },
      "source": [
        "## 4.2.\tUKURAN PENYEBARAN DATA (MEASURES OF DISPERSION)\n",
        "Mean, median, dan mode adalah ukuran pusat dari data. Beberapa karakteristik dari satu set data mungkin tidak akan mucul hanya dari pemeriksaan ukuran-ukuran tendensi sentral ini. Misalnya, perhatikan volume kendaraan yang melewati tempat wisata taman pintar pada pagi dan siang pada hari senin – jumat yang ditunjukkan pada tabel berikut\n",
        "\n",
        "<center><a href=\"https://ibb.co/fp58Rxz\"><img src=\"https://i.ibb.co/HzsNvHf/3.png\" alt=\"3\" border=\"0\"></a><br /><a target='_blank' href='https://imgbb.com/'>upload image sites</a><br /></center>\n",
        "\n",
        "Mean, median, dan mode volume kendaraan pada hari pagi dan siang hari identik, namun pemeriksaan menunjukkan bahwa pagi adalah data tersebar luas, sedangkan pada siang hari berada dalam beberapa poin dari mean. Contoh ini menggambarkan bahwa nilai rata-rata tidak mencerminkan penyebaran data. Untuk mengukur penyebaran data, kami mendefinisikan nilai statistik dikenal sebagai variasi dan standar deviasi.\n",
        "### 4.2.1.\tStandar Deviasi dan Varians\n",
        "Pengukuran yang paling sering dilakukan untuk mengukur penyebaran data adalah standar deviasi. Standar deviasi adalah pengukuran yang digunakan untuk mengetahui bagaimana konsentrasi data terhadap mean, atau dengan kata lain untuk mengetahui deviasi (penyimpangan) masing-masing data terhadap mean. Semakin data terkonsentrasi pada mean, maka tingkat penyimpangan data tersebut terhadap mean adalah kecil.\n",
        "Standar deviasi digunakan untuk mengetahui apakah sampel data yang diambil mewakili seluruh populasi. Karena mencari data yang tepat untuk suatu populasi sangat sulit untuk dilakukan. Maka dari itu perlu menggunakan sampel data yang dapat mewakili seluruh populasi sehingga mempermudah untuk melakukan penelitian atau suatu tugas. \n",
        "Sebagai gambaran, jika mengetahui volume kendaraan pada tempat wisata taman pintar pada senin pagi, maka yang perlu dilakukan adalah mencari dan mencatat data kendaaran yang melewati tempat wisata tersebut dan menghitung rata-rata serta standar deviasinya. Dari perhitungan tersebut akan diketahui nilai yang dapat mewakili seluruh populasi.\n",
        "Untuk mengetahui nilai standar deviasi harus dihitung nilai varians terlebih dahulu. Cara untuk menghitung varians dijelaskan sebagai berikut:\n",
        "\n",
        "1.  Hitung mean populasi, μ.\n",
        "2.  Kurangi masing-masing anggota set dengan mean dari masing-masing nilai dalam batch. Ini menghasilkan satu set deviasi, d (di mana d = x - μ). Ambil kuadrat dari deviasi ini, d^2.\n",
        "3.  Jumlahkan seluruh nilai deviasi kuadrat, dan bagi dengan banyaknya anggota set, n. Maka akan diperoleh varians, σ^2.\n",
        "4. \tUntuk mendapatkan standar deviasi σ, hitung akar kuadrat dari varians.\n",
        "\n",
        "Untuk perhitungan varians dan standar deviasi pada sampel, varians dilambangkan dengan S^2 dan standar deviasi dilambangkan dengan S. Pada persamaan perhitungan sampel, pembagi n berubah menjadi n – 1. Hal itu disebut dengan \"Bessel's correction\".  </br>\n",
        "Sehingga diperoleh persamaan sebagai berikut\n",
        "<center><a href=\"https://ibb.co/PFcxp7Q\"><img src=\"https://i.ibb.co/fqkMRhv/4.png\" alt=\"4\" border=\"0\"></a><br /><a target='_blank' href='https://imgbb.com/'>upload image sites</a><br /></center>\n",
        "\n",
        "Berikut ini adalah contoh perhitungan varians dan standar deviasi dari contoh kasus tabel diatas: </br>\n",
        "Data volume kendaraan pada pagi hari:  4412, 3809, 3572, 4803, 3089 <br>\n",
        "\n",
        "<center><a href=\"https://imgbb.com/\"><img src=\"https://i.ibb.co/3RqYtJ3/5.png\" alt=\"5\" border=\"0\"></a><br /><a target='_blank' href='https://imgbb.com/'>upload image sites</a><br /></center>\n",
        "\n",
        "Sehingga diperoleh standar deviasi dari volume kendaraan pada senin pagi pada kawasan wisata taman pintar adalah 494,363 <br>\n",
        "\n",
        "Data volume kendaraan pada siang hari: 3809, 3809, 3809,4562, 3396 \n",
        "<center><a href=\"https://imgbb.com/\"><img src=\"https://i.ibb.co/2K3CsKv/6.png\" alt=\"6\" border=\"0\"></a><br /><a target='_blank' href='https://imgbb.com/'>upload image sites</a><br /></center>\n",
        "\n",
        "Sehingga diperoleh standar deviasi dari volume kendaraan pada senin siang pada kawasan wisata taman pintar adalah 308,572\n",
        "\n",
        "<font color=\"red\">Dari perbandingan standar deviasi yang telah dihitung sebelumnya, maka dapat disimpulkan bahwa volume kendaraan pada senin pagi lebih beragam atau bervariasi atau beragam dibandingkan senin siang</font>\n",
        "\n",
        "\n",
        "\n",
        "\n",
        "\n",
        "\n"
      ]
    }
  ]
}